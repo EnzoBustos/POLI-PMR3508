{
  "nbformat": 4,
  "nbformat_minor": 0,
  "metadata": {
    "colab": {
      "name": "3. Rede Neural",
      "provenance": [],
      "collapsed_sections": [],
      "toc_visible": true
    },
    "kernelspec": {
      "display_name": "Python 3",
      "name": "python3"
    }
  },
  "cells": [
    {
      "cell_type": "markdown",
      "metadata": {
        "id": "Yey_EtN_0KEE"
      },
      "source": [
        "# Análise de Sentimentos com Rede Neural no *Large Movie Review Dataset*\n",
        "\n",
        "---\n",
        "\n",
        "Terceiro projeto de PMR3508 - Aprendizado de Máquina e Reconhecimento de Padrões\n",
        "\n",
        "Autor: Enzo Bustos da Silva\n",
        "\n",
        "*Large Movie Review Dataset:*\n",
        "* [Kaggle](https://www.kaggle.com/c/sentiment-analysis-pmr3508/data)\n",
        "* [Stanford](https://ai.stanford.edu/~amaas/data/sentiment/)\n",
        "\n",
        "Nesse notebook vamos discutir um pouco a respeito da aplicação de Redes Neurais (MLPs) para a identificação se os sentimentos transmitidos pelos textos de avaliações de filmes do site IMDb são positivos ou negativos.\n",
        "\n",
        "Para a realização desse projeto deveremos aplicar o modelo pré-treinado de doc2vec para realizar o pré-processamento e transformação dos textos em vetores. Após isso deveremos usar grid ou random search para achar o número ótimo de neurônios para as 2 redes que treinaremos, uma com apenas 1 hidden layer e a segunda com 2 hidden layers, usando a implementação disponível no [sklearn](https://scikit-learn.org/stable/modules/generated/sklearn.neural_network.MLPClassifier.html).\n",
        "\n",
        "Após isso faremos novamente uma Rede Neural contendo 2 camadas ocultas, mas dessa vez utilizando as implementações do keras, após isso validaremos nossos modelos com um conjunto de teste e enviaremos nossas predições para o kaggle utilizando um conjunto de dados de validação.\n",
        "\n",
        "De maneira opcional o professor achou válido utilizar outros modelos de machine learning que não se baseiam em MLPs e, eu farei essa parte como um complemento para testar também esses outros modelos, bem como a performance deles utilizando as curvas ROC e AUC."
      ]
    },
    {
      "cell_type": "code",
      "metadata": {
        "colab": {
          "base_uri": "https://localhost:8080/"
        },
        "id": "ANZunseQC_Cw",
        "outputId": "9a202dbe-d86b-4c0e-bdf3-2f77a6c810b0"
      },
      "source": [
        "!pip install ftfy\n",
        "!pip install gensim"
      ],
      "execution_count": 1,
      "outputs": [
        {
          "output_type": "stream",
          "text": [
            "Requirement already satisfied: ftfy in /usr/local/lib/python3.6/dist-packages (5.8)\n",
            "Requirement already satisfied: wcwidth in /usr/local/lib/python3.6/dist-packages (from ftfy) (0.2.5)\n",
            "Requirement already satisfied: gensim in /usr/local/lib/python3.6/dist-packages (3.6.0)\n",
            "Requirement already satisfied: numpy>=1.11.3 in /usr/local/lib/python3.6/dist-packages (from gensim) (1.18.5)\n",
            "Requirement already satisfied: scipy>=0.18.1 in /usr/local/lib/python3.6/dist-packages (from gensim) (1.4.1)\n",
            "Requirement already satisfied: six>=1.5.0 in /usr/local/lib/python3.6/dist-packages (from gensim) (1.15.0)\n",
            "Requirement already satisfied: smart-open>=1.2.1 in /usr/local/lib/python3.6/dist-packages (from gensim) (3.0.0)\n",
            "Requirement already satisfied: requests in /usr/local/lib/python3.6/dist-packages (from smart-open>=1.2.1->gensim) (2.23.0)\n",
            "Requirement already satisfied: chardet<4,>=3.0.2 in /usr/local/lib/python3.6/dist-packages (from requests->smart-open>=1.2.1->gensim) (3.0.4)\n",
            "Requirement already satisfied: urllib3!=1.25.0,!=1.25.1,<1.26,>=1.21.1 in /usr/local/lib/python3.6/dist-packages (from requests->smart-open>=1.2.1->gensim) (1.24.3)\n",
            "Requirement already satisfied: certifi>=2017.4.17 in /usr/local/lib/python3.6/dist-packages (from requests->smart-open>=1.2.1->gensim) (2020.11.8)\n",
            "Requirement already satisfied: idna<3,>=2.5 in /usr/local/lib/python3.6/dist-packages (from requests->smart-open>=1.2.1->gensim) (2.10)\n"
          ],
          "name": "stdout"
        }
      ]
    },
    {
      "cell_type": "markdown",
      "metadata": {
        "id": "ZXkR10xGMYUC"
      },
      "source": [
        "# Limpeza dos dados e análise exploratória:\n",
        "\n",
        "---\n",
        "\n",
        "Nosso conjunto de dados consiste em uma série de avaliações de filmes e também da classificação do sentimento dela em positivo ou negativo, parece muito mais simples, mas essa parte provavelmente será uma das mais diferentes dos outros EP's, de qualquer forma eu acho que é muito necessário termos uma visualização dos nossos dados de forma a ter o *feeling* sobre o que estamos lidando.\n",
        "\n",
        "Vamos primeiramente aplicar uma função de limpeza pelos nossos dados (disponibilizada no Moodle) para assim remover tudo que não for uma letra, retirar as tag HTML, tokenizar nossos dados, remover stopwords e aplicar lematização (pegar a raiz de palavras derivadas), vamos para o código:"
      ]
    },
    {
      "cell_type": "code",
      "metadata": {
        "colab": {
          "base_uri": "https://localhost:8080/"
        },
        "id": "Bxoamo8SgZwb",
        "outputId": "8b57f7d5-8656-4c10-ad2f-4e42005ce2c8"
      },
      "source": [
        "# Primeiro vamos carregar algumas bibliotecas e importar nossos dados\n",
        "\n",
        "from google.colab import drive\n",
        "drive.mount('/content/drive', force_remount=1)"
      ],
      "execution_count": 2,
      "outputs": [
        {
          "output_type": "stream",
          "text": [
            "Mounted at /content/drive\n"
          ],
          "name": "stdout"
        }
      ]
    },
    {
      "cell_type": "code",
      "metadata": {
        "colab": {
          "base_uri": "https://localhost:8080/"
        },
        "id": "3RQxiXTag4OQ",
        "outputId": "fe297597-8c46-4db6-e32d-0299ff790e5e"
      },
      "source": [
        "cd '/content/drive/MyDrive/Poli/Aprendizado de Máquina/EPs/EP3 - Rede Neural/Conjunto de Dados'"
      ],
      "execution_count": 3,
      "outputs": [
        {
          "output_type": "stream",
          "text": [
            "/content/drive/MyDrive/Poli/Aprendizado de Máquina/EPs/EP3 - Rede Neural/Conjunto de Dados\n"
          ],
          "name": "stdout"
        }
      ]
    },
    {
      "cell_type": "code",
      "metadata": {
        "colab": {
          "base_uri": "https://localhost:8080/",
          "height": 359
        },
        "id": "ITdmp0xG-_L_",
        "outputId": "a4e41e8d-a276-4148-8acc-5b31a5e3bd8f"
      },
      "source": [
        "import pandas as pd\n",
        "import numpy as np\n",
        "\n",
        "df = pd.read_csv('train.csv')\n",
        "df.head(10)"
      ],
      "execution_count": 4,
      "outputs": [
        {
          "output_type": "execute_result",
          "data": {
            "text/html": [
              "<div>\n",
              "<style scoped>\n",
              "    .dataframe tbody tr th:only-of-type {\n",
              "        vertical-align: middle;\n",
              "    }\n",
              "\n",
              "    .dataframe tbody tr th {\n",
              "        vertical-align: top;\n",
              "    }\n",
              "\n",
              "    .dataframe thead th {\n",
              "        text-align: right;\n",
              "    }\n",
              "</style>\n",
              "<table border=\"1\" class=\"dataframe\">\n",
              "  <thead>\n",
              "    <tr style=\"text-align: right;\">\n",
              "      <th></th>\n",
              "      <th>review</th>\n",
              "      <th>positive</th>\n",
              "    </tr>\n",
              "  </thead>\n",
              "  <tbody>\n",
              "    <tr>\n",
              "      <th>0</th>\n",
              "      <td>Bromwell High is a cartoon comedy. It ran at t...</td>\n",
              "      <td>1</td>\n",
              "    </tr>\n",
              "    <tr>\n",
              "      <th>1</th>\n",
              "      <td>Homelessness (or Houselessness as George Carli...</td>\n",
              "      <td>1</td>\n",
              "    </tr>\n",
              "    <tr>\n",
              "      <th>2</th>\n",
              "      <td>Brilliant over-acting by Lesley Ann Warren. Be...</td>\n",
              "      <td>1</td>\n",
              "    </tr>\n",
              "    <tr>\n",
              "      <th>3</th>\n",
              "      <td>This is easily the most underrated film inn th...</td>\n",
              "      <td>1</td>\n",
              "    </tr>\n",
              "    <tr>\n",
              "      <th>4</th>\n",
              "      <td>This is not the typical Mel Brooks film. It wa...</td>\n",
              "      <td>1</td>\n",
              "    </tr>\n",
              "    <tr>\n",
              "      <th>5</th>\n",
              "      <td>This isn't the comedic Robin Williams, nor is ...</td>\n",
              "      <td>1</td>\n",
              "    </tr>\n",
              "    <tr>\n",
              "      <th>6</th>\n",
              "      <td>Yes its an art... to successfully make a slow ...</td>\n",
              "      <td>1</td>\n",
              "    </tr>\n",
              "    <tr>\n",
              "      <th>7</th>\n",
              "      <td>In this \"critically acclaimed psychological th...</td>\n",
              "      <td>1</td>\n",
              "    </tr>\n",
              "    <tr>\n",
              "      <th>8</th>\n",
              "      <td>THE NIGHT LISTENER (2006) **1/2 Robin Williams...</td>\n",
              "      <td>1</td>\n",
              "    </tr>\n",
              "    <tr>\n",
              "      <th>9</th>\n",
              "      <td>You know, Robin Williams, God bless him, is co...</td>\n",
              "      <td>1</td>\n",
              "    </tr>\n",
              "  </tbody>\n",
              "</table>\n",
              "</div>"
            ],
            "text/plain": [
              "                                              review  positive\n",
              "0  Bromwell High is a cartoon comedy. It ran at t...         1\n",
              "1  Homelessness (or Houselessness as George Carli...         1\n",
              "2  Brilliant over-acting by Lesley Ann Warren. Be...         1\n",
              "3  This is easily the most underrated film inn th...         1\n",
              "4  This is not the typical Mel Brooks film. It wa...         1\n",
              "5  This isn't the comedic Robin Williams, nor is ...         1\n",
              "6  Yes its an art... to successfully make a slow ...         1\n",
              "7  In this \"critically acclaimed psychological th...         1\n",
              "8  THE NIGHT LISTENER (2006) **1/2 Robin Williams...         1\n",
              "9  You know, Robin Williams, God bless him, is co...         1"
            ]
          },
          "metadata": {
            "tags": []
          },
          "execution_count": 4
        }
      ]
    },
    {
      "cell_type": "markdown",
      "metadata": {
        "id": "Ui06tAzE26WA"
      },
      "source": [
        "Primeiro de tudo, vamos remover os nossos dados duplicados"
      ]
    },
    {
      "cell_type": "code",
      "metadata": {
        "id": "tr_VGqoc29ho"
      },
      "source": [
        "df = df.drop_duplicates(subset='review', keep='first')"
      ],
      "execution_count": 5,
      "outputs": []
    },
    {
      "cell_type": "markdown",
      "metadata": {
        "id": "-OnyMhvTAIyu"
      },
      "source": [
        "Nossos dados consistem de 2 colunas, uma com o texto da review de um filme e o segundo parâmetro significa se a review é positiva (True = 1) ou se ela é negativa (False = 0). Vamos instanciar nosso X_train e y_train e ver um desses textos como exemplo."
      ]
    },
    {
      "cell_type": "code",
      "metadata": {
        "colab": {
          "base_uri": "https://localhost:8080/",
          "height": 171
        },
        "id": "n71I4whyTssf",
        "outputId": "88a99732-be51-411f-847b-b2cab3ff0709"
      },
      "source": [
        "X_train = df['review']\n",
        "y_train = df['positive']\n",
        "\n",
        "X_train[5]"
      ],
      "execution_count": 6,
      "outputs": [
        {
          "output_type": "execute_result",
          "data": {
            "application/vnd.google.colaboratory.intrinsic+json": {
              "type": "string"
            },
            "text/plain": [
              "\"This isn't the comedic Robin Williams, nor is it the quirky/insane Robin Williams of recent thriller fame. This is a hybrid of the classic drama without over-dramatization, mixed with Robin's new love of the thriller. But this isn't a thriller, per se. This is more a mystery/suspense vehicle through which Williams attempts to locate a sick boy and his keeper.<br /><br />Also starring Sandra Oh and Rory Culkin, this Suspense Drama plays pretty much like a news report, until William's character gets close to achieving his goal.<br /><br />I must say that I was highly entertained, though this movie fails to teach, guide, inspect, or amuse. It felt more like I was watching a guy (Williams), as he was actually performing the actions, from a third person perspective. In other words, it felt real, and I was able to subscribe to the premise of the story.<br /><br />All in all, it's worth a watch, though it's definitely not Friday/Saturday night fare.<br /><br />It rates a 7.7/10 from...<br /><br />the Fiend :.\""
            ]
          },
          "metadata": {
            "tags": []
          },
          "execution_count": 6
        }
      ]
    },
    {
      "cell_type": "markdown",
      "metadata": {
        "id": "HphJKVIIBG7G"
      },
      "source": [
        "Nesse exemplo conseguimos perceber vários dos problemas que eu citei anteriormente: temos números (7.7), tags HTML (`<br />`), stopwords (the) e flexões (achieving). Vamos então passar uma função identica a utilizada no Word2Vec para limparmos nossos dados."
      ]
    },
    {
      "cell_type": "code",
      "metadata": {
        "id": "k34lwkMrEFLP"
      },
      "source": [
        "# Carregando bibliotecas necessárias\n",
        "\n",
        "import re\n",
        "import string\n",
        "from ftfy import fix_text"
      ],
      "execution_count": 7,
      "outputs": []
    },
    {
      "cell_type": "code",
      "metadata": {
        "id": "unO_SvfnET7G"
      },
      "source": [
        "def clean_text(text):\n",
        "\n",
        "    # Retirando tags\n",
        "    text = text.replace(\"<br />\", \" \")\n",
        "\n",
        "    # Consertando Mojibakes\n",
        "    text = fix_text(text)\n",
        "\n",
        "    # Passando tudo para minúsculo\n",
        "    text = text.lower()\n",
        "\n",
        "    # Selecionando somente letras e números\n",
        "    text = re.findall(r'[a-z0-9]+', text)\n",
        "\n",
        "    # Juntando as letras e números\n",
        "    text = \" \".join(text)\n",
        "\n",
        "    # Colocando um token especial para os números\n",
        "    text = re.sub(\"\\d+\", ' <number> ', text)\n",
        "\n",
        "    # Deletando espaços extras\n",
        "    text = re.sub(' +', ' ', text)\n",
        "\n",
        "    return text"
      ],
      "execution_count": 8,
      "outputs": []
    },
    {
      "cell_type": "code",
      "metadata": {
        "colab": {
          "base_uri": "https://localhost:8080/",
          "height": 154
        },
        "id": "KidVZ5MKGiS_",
        "outputId": "3dea7651-0ef4-4901-bc29-a6c4c4e479f2"
      },
      "source": [
        "#Aplicando agora nos nossos dados\n",
        "\n",
        "X_train = X_train.apply(clean_text)\n",
        "X_train[5] #Mesmo texto que mostramos antes, mas dessa vez limpo"
      ],
      "execution_count": 9,
      "outputs": [
        {
          "output_type": "execute_result",
          "data": {
            "application/vnd.google.colaboratory.intrinsic+json": {
              "type": "string"
            },
            "text/plain": [
              "'this isn t the comedic robin williams nor is it the quirky insane robin williams of recent thriller fame this is a hybrid of the classic drama without over dramatization mixed with robin s new love of the thriller but this isn t a thriller per se this is more a mystery suspense vehicle through which williams attempts to locate a sick boy and his keeper also starring sandra oh and rory culkin this suspense drama plays pretty much like a news report until william s character gets close to achieving his goal i must say that i was highly entertained though this movie fails to teach guide inspect or amuse it felt more like i was watching a guy williams as he was actually performing the actions from a third person perspective in other words it felt real and i was able to subscribe to the premise of the story all in all it s worth a watch though it s definitely not friday saturday night fare it rates a <number> <number> <number> from the fiend'"
            ]
          },
          "metadata": {
            "tags": []
          },
          "execution_count": 9
        }
      ]
    },
    {
      "cell_type": "markdown",
      "metadata": {
        "id": "qVp6MDVJKkTl"
      },
      "source": [
        "Vamos tentar visualizar alguns dos nossos dados agora que já estão limpos através de uma WordCloud, ou seja, um balão que vai mostrar várias palavras presentes no texto, o tamanho e o quão no centro estão essas palavras significam maior presença dentro dos textos."
      ]
    },
    {
      "cell_type": "code",
      "metadata": {
        "colab": {
          "base_uri": "https://localhost:8080/",
          "height": 319
        },
        "id": "3SlikgImO1BB",
        "outputId": "795ee662-5aaa-4dee-838d-7e7e52636051"
      },
      "source": [
        "import matplotlib.pyplot as plt\n",
        "from wordcloud import WordCloud\n",
        "\n",
        "big_text = ''\n",
        "for text in X_train:\n",
        "    try:\n",
        "        big_text += text\n",
        "    except:\n",
        "        pass\n",
        "\n",
        "wordcloud = WordCloud(width = 1600, height = 800,\n",
        "                      background_color ='white',\n",
        "                      min_font_size = 10).generate(big_text) \n",
        "\n",
        "plt.figure(figsize = (8, 8), facecolor = None) \n",
        "plt.imshow(wordcloud) \n",
        "plt.axis(\"off\") \n",
        "plt.tight_layout(pad = 0) \n",
        "\n",
        "plt.show()"
      ],
      "execution_count": 10,
      "outputs": [
        {
          "output_type": "display_data",
          "data": {
            "image/png": "[encoded data removed]",
            "text/plain": [
              "<Figure size 576x576 with 1 Axes>"
            ]
          },
          "metadata": {
            "tags": [],
            "needs_background": "light"
          }
        }
      ]
    },
    {
      "cell_type": "markdown",
      "metadata": {
        "id": "p3_9iRorB4wQ"
      },
      "source": [
        "Vamos tentar ver mais alguns dados estatísticos como o número de avaliações positivas e negativas e a distribuições dessas análises relativa ao número de caracteres das mensagens"
      ]
    },
    {
      "cell_type": "code",
      "metadata": {
        "colab": {
          "base_uri": "https://localhost:8080/"
        },
        "id": "T8eyk9b-GB46",
        "outputId": "d701f01c-3936-4f72-876a-8be393f9e93d"
      },
      "source": [
        "y_train.value_counts()"
      ],
      "execution_count": 11,
      "outputs": [
        {
          "output_type": "execute_result",
          "data": {
            "text/plain": [
              "1    12461\n",
              "0    12427\n",
              "Name: positive, dtype: int64"
            ]
          },
          "metadata": {
            "tags": []
          },
          "execution_count": 11
        }
      ]
    },
    {
      "cell_type": "code",
      "metadata": {
        "colab": {
          "base_uri": "https://localhost:8080/",
          "height": 382
        },
        "id": "BGJ4qpgeGmRK",
        "outputId": "5320db36-13be-491a-f9a4-f6cb09a23999"
      },
      "source": [
        "import seaborn as sns\n",
        "sns.set(rc={'figure.figsize':(10, 10)})\n",
        "\n",
        "lengths = [len(re.findall(r'\\w+', text)) for text in X_train]\n",
        "\n",
        "colors = {\n",
        "    0: 'red',  #Sentimento negativo\n",
        "    1: 'blue', #Sentimento positivo\n",
        "}\n",
        "\n",
        "g = sns.displot(x=lengths, col=y_train, hue=y_train, palette=colors)\n",
        "g.set(xlim=(0, 600))"
      ],
      "execution_count": 12,
      "outputs": [
        {
          "output_type": "execute_result",
          "data": {
            "text/plain": [
              "<seaborn.axisgrid.FacetGrid at 0x7fd8152fd748>"
            ]
          },
          "metadata": {
            "tags": []
          },
          "execution_count": 12
        },
        {
          "output_type": "display_data",
          "data": {
            "image/png": "[encoded data removed]",
            "text/plain": [
              "<Figure size 776.05x360 with 2 Axes>"
            ]
          },
          "metadata": {
            "tags": []
          }
        }
      ]
    },
    {
      "cell_type": "markdown",
      "metadata": {
        "id": "dnx2eoehf-c5"
      },
      "source": [
        "Bom, como podemos ver existem mais ou menos o mesmo número de avaliações positivas e negativas no nosso dataset e elas também seguem praticamente a mesma distribuição."
      ]
    },
    {
      "cell_type": "markdown",
      "metadata": {
        "id": "HCBuFlSEhSQM"
      },
      "source": [
        "# Tokenização e Doc2Vec\n",
        "\n",
        "---\n",
        "\n",
        "A ideia nessa parte é tokenizarmos nosso texto, ou seja, criar uma lista de palavras para cada um dos nossos textos e depois aplicar o modelo pré-treinado de Doc2Vec, ele vai converter nossos textos para números e dessa forma iremos conseguir aplicar nossos dados em um modelo de machine learning; esses processos são chamados de Word Embedding"
      ]
    },
    {
      "cell_type": "code",
      "metadata": {
        "colab": {
          "base_uri": "https://localhost:8080/"
        },
        "id": "0kh5F6kudXoj",
        "outputId": "87a85473-4375-4e77-acd8-a16ee3d103cc"
      },
      "source": [
        "#Vamos tokenizar nosso texto, ou seja, torná-lo um vetor de palavras\n",
        "\n",
        "X_train = X_train.apply(lambda x: x.split())\n",
        "X_train[5] #Assim fica o texto como tokens"
      ],
      "execution_count": 13,
      "outputs": [
        {
          "output_type": "execute_result",
          "data": {
            "text/plain": [
              "['this',\n",
              " 'isn',\n",
              " 't',\n",
              " 'the',\n",
              " 'comedic',\n",
              " 'robin',\n",
              " 'williams',\n",
              " 'nor',\n",
              " 'is',\n",
              " 'it',\n",
              " 'the',\n",
              " 'quirky',\n",
              " 'insane',\n",
              " 'robin',\n",
              " 'williams',\n",
              " 'of',\n",
              " 'recent',\n",
              " 'thriller',\n",
              " 'fame',\n",
              " 'this',\n",
              " 'is',\n",
              " 'a',\n",
              " 'hybrid',\n",
              " 'of',\n",
              " 'the',\n",
              " 'classic',\n",
              " 'drama',\n",
              " 'without',\n",
              " 'over',\n",
              " 'dramatization',\n",
              " 'mixed',\n",
              " 'with',\n",
              " 'robin',\n",
              " 's',\n",
              " 'new',\n",
              " 'love',\n",
              " 'of',\n",
              " 'the',\n",
              " 'thriller',\n",
              " 'but',\n",
              " 'this',\n",
              " 'isn',\n",
              " 't',\n",
              " 'a',\n",
              " 'thriller',\n",
              " 'per',\n",
              " 'se',\n",
              " 'this',\n",
              " 'is',\n",
              " 'more',\n",
              " 'a',\n",
              " 'mystery',\n",
              " 'suspense',\n",
              " 'vehicle',\n",
              " 'through',\n",
              " 'which',\n",
              " 'williams',\n",
              " 'attempts',\n",
              " 'to',\n",
              " 'locate',\n",
              " 'a',\n",
              " 'sick',\n",
              " 'boy',\n",
              " 'and',\n",
              " 'his',\n",
              " 'keeper',\n",
              " 'also',\n",
              " 'starring',\n",
              " 'sandra',\n",
              " 'oh',\n",
              " 'and',\n",
              " 'rory',\n",
              " 'culkin',\n",
              " 'this',\n",
              " 'suspense',\n",
              " 'drama',\n",
              " 'plays',\n",
              " 'pretty',\n",
              " 'much',\n",
              " 'like',\n",
              " 'a',\n",
              " 'news',\n",
              " 'report',\n",
              " 'until',\n",
              " 'william',\n",
              " 's',\n",
              " 'character',\n",
              " 'gets',\n",
              " 'close',\n",
              " 'to',\n",
              " 'achieving',\n",
              " 'his',\n",
              " 'goal',\n",
              " 'i',\n",
              " 'must',\n",
              " 'say',\n",
              " 'that',\n",
              " 'i',\n",
              " 'was',\n",
              " 'highly',\n",
              " 'entertained',\n",
              " 'though',\n",
              " 'this',\n",
              " 'movie',\n",
              " 'fails',\n",
              " 'to',\n",
              " 'teach',\n",
              " 'guide',\n",
              " 'inspect',\n",
              " 'or',\n",
              " 'amuse',\n",
              " 'it',\n",
              " 'felt',\n",
              " 'more',\n",
              " 'like',\n",
              " 'i',\n",
              " 'was',\n",
              " 'watching',\n",
              " 'a',\n",
              " 'guy',\n",
              " 'williams',\n",
              " 'as',\n",
              " 'he',\n",
              " 'was',\n",
              " 'actually',\n",
              " 'performing',\n",
              " 'the',\n",
              " 'actions',\n",
              " 'from',\n",
              " 'a',\n",
              " 'third',\n",
              " 'person',\n",
              " 'perspective',\n",
              " 'in',\n",
              " 'other',\n",
              " 'words',\n",
              " 'it',\n",
              " 'felt',\n",
              " 'real',\n",
              " 'and',\n",
              " 'i',\n",
              " 'was',\n",
              " 'able',\n",
              " 'to',\n",
              " 'subscribe',\n",
              " 'to',\n",
              " 'the',\n",
              " 'premise',\n",
              " 'of',\n",
              " 'the',\n",
              " 'story',\n",
              " 'all',\n",
              " 'in',\n",
              " 'all',\n",
              " 'it',\n",
              " 's',\n",
              " 'worth',\n",
              " 'a',\n",
              " 'watch',\n",
              " 'though',\n",
              " 'it',\n",
              " 's',\n",
              " 'definitely',\n",
              " 'not',\n",
              " 'friday',\n",
              " 'saturday',\n",
              " 'night',\n",
              " 'fare',\n",
              " 'it',\n",
              " 'rates',\n",
              " 'a',\n",
              " '<number>',\n",
              " '<number>',\n",
              " '<number>',\n",
              " 'from',\n",
              " 'the',\n",
              " 'fiend']"
            ]
          },
          "metadata": {
            "tags": []
          },
          "execution_count": 13
        }
      ]
    },
    {
      "cell_type": "markdown",
      "metadata": {
        "id": "nbP8GEf7-SgY"
      },
      "source": [
        "Vamos agora aplicar a função de Doc2Vec também disponibilizada no moodle para os alunos."
      ]
    },
    {
      "cell_type": "code",
      "metadata": {
        "id": "Oe6s-NhViScI"
      },
      "source": [
        "from gensim.models.doc2vec import Doc2Vec\n",
        "\n",
        "#Instanciando Doc2Vec\n",
        "D2V = Doc2Vec.load('doc2vec')\n",
        "\n",
        "def embedding(text, model, normalize=False): \n",
        "    model.random.seed(42)\n",
        "\n",
        "    #Word2Vec\n",
        "    x = model.infer_vector(text, steps=25)\n",
        "    \n",
        "    if normalize:\n",
        "        return (x/np.sqrt(x@x))\n",
        "    else:\n",
        "        return (x)"
      ],
      "execution_count": 14,
      "outputs": []
    },
    {
      "cell_type": "code",
      "metadata": {
        "colab": {
          "base_uri": "https://localhost:8080/"
        },
        "id": "GjZJ1gDO67bH",
        "outputId": "700c1908-4b6f-4b3a-dd46-23eb0f735fb6"
      },
      "source": [
        "#Aplicando o Word2Vec no nossos dados\n",
        "\n",
        "X_train = X_train.to_list()\n",
        "X_train = [embedding(text, D2V) for text in X_train] \n",
        "X_train = np.array(X_train)\n",
        "X_train[5] #Nosso mesmo texto como ficou agora (em números)"
      ],
      "execution_count": 15,
      "outputs": [
        {
          "output_type": "execute_result",
          "data": {
            "text/plain": [
              "array([-0.12112503, -0.66567445, -0.44296318, -0.6244586 , -1.2597122 ,\n",
              "       -0.5241138 , -0.26518935,  0.14014487,  0.15607394, -1.9484546 ,\n",
              "       -0.65840703,  0.16582713,  0.06669427,  0.2845399 ,  0.640564  ,\n",
              "        0.48413914,  0.7339431 , -0.17255077, -0.13925746, -0.97216815,\n",
              "        0.14360139,  1.0384549 , -0.54524535, -0.3371796 , -0.36696056,\n",
              "       -0.04025301, -0.2055413 ,  0.20872127, -1.1937075 ,  0.9213505 ,\n",
              "        1.1443474 , -0.22856976, -0.9847932 ,  1.3196887 , -0.15801166,\n",
              "        0.15638252, -0.48906842, -0.42981422,  0.43535733, -0.35452008,\n",
              "        0.5947334 , -0.195074  ,  0.3223219 ,  0.96399283,  0.5729398 ,\n",
              "       -0.414798  ,  0.6772822 ,  0.27796292,  0.44072178, -0.4307452 ],\n",
              "      dtype=float32)"
            ]
          },
          "metadata": {
            "tags": []
          },
          "execution_count": 15
        }
      ]
    },
    {
      "cell_type": "markdown",
      "metadata": {
        "id": "Oe4_sd3kmITX"
      },
      "source": [
        "Vamos agora aplicar nossas alterações de pré-processamento nos conjuntos de teste e validação e na próxima seção aplicar alguns modelos de machine learning."
      ]
    },
    {
      "cell_type": "code",
      "metadata": {
        "id": "O2D3RcTeWBr8"
      },
      "source": [
        "def clean_data(data):\n",
        "    data = data.apply(clean_text)\n",
        "    data = data.apply(lambda x: x.split())\n",
        "    data = data.to_list()\n",
        "    data = [embedding(text, D2V) for text in data] \n",
        "    data = np.array(data)\n",
        "    return data"
      ],
      "execution_count": 16,
      "outputs": []
    },
    {
      "cell_type": "code",
      "metadata": {
        "id": "eBXyRUkQnglw"
      },
      "source": [
        "#Carregando os outros dados\n",
        "test = pd.read_csv('test.csv')\n",
        "\n",
        "#Separando o teste e aplicando o processo de limpeza\n",
        "X_test = clean_data(test['review'])\n",
        "y_test = test['positive']"
      ],
      "execution_count": 17,
      "outputs": []
    },
    {
      "cell_type": "markdown",
      "metadata": {
        "id": "TNlJmKZ8-Q9W"
      },
      "source": [
        "# Modelos:\n",
        "\n",
        "---\n",
        "\n",
        "Vamos agora nessa última parte por em prática os modelos pedidos pelo professor, dessa forma vamos aplicar então 3 redes neurais, sendo duas utilizando a biblioteca do scikit-learn e a última implementaçãoem tensorflow/keras (baseada no Tuned Model, disponível para todos pelo monitor), também é possível adicionarmos outro modelo como regressão logística e ver como ele performa"
      ]
    },
    {
      "cell_type": "code",
      "metadata": {
        "id": "HWviaHwkHZaZ"
      },
      "source": [
        "# Função para colocar alguns resultados de output\n",
        "\n",
        "def result(model, model_name):\n",
        "    print('########## RESULTADOS ##########')\n",
        "    print()\n",
        "    print(model_name)\n",
        "    print()\n",
        "    print('Melhores parâmetros:', model.best_params_)\n",
        "    print()\n",
        "    print('Melhor score:', model.best_score_)"
      ],
      "execution_count": 18,
      "outputs": []
    },
    {
      "cell_type": "code",
      "metadata": {
        "id": "u1dybgB8ISxe"
      },
      "source": [
        "#Importando algumas bibliotecas\n",
        "\n",
        "import random\n",
        "\n",
        "from scipy.stats import loguniform as sp_loguniform\n",
        "from sklearn.metrics import roc_auc_score\n",
        "from sklearn.neural_network import MLPClassifier\n",
        "from sklearn.model_selection import RandomizedSearchCV\n",
        "\n",
        "import tensorflow as tf\n",
        "from tensorflow.keras import Sequential, regularizers\n",
        "from tensorflow.keras.layers import Dense\n",
        "from tensorflow.python.framework import ops\n",
        "from tensorflow.keras.callbacks import EarlyStopping"
      ],
      "execution_count": 19,
      "outputs": []
    },
    {
      "cell_type": "markdown",
      "metadata": {
        "id": "_RhqKfhcr_VB"
      },
      "source": [
        "## Multilayer Perceptron - 1 Hidden Layer: Scikit-Learn"
      ]
    },
    {
      "cell_type": "code",
      "metadata": {
        "colab": {
          "base_uri": "https://localhost:8080/"
        },
        "id": "wkl725UGEsE6",
        "outputId": "fc1962b5-e128-492c-e2d2-251145fc6bb9"
      },
      "source": [
        "# Multilayer Perceptron com 1 camada escondida\n",
        "parameter_space = {\n",
        "    \"hidden_layer_sizes\": [(2 ** i) for i in np.arange(5, 12)],\n",
        "    'alpha': sp_loguniform(0.000001, 0.1),\n",
        "    'learning_rate': ['constant','adaptive'],\n",
        "}\n",
        "\n",
        "MLP_1Layer = MLPClassifier(random_state=12, early_stopping=True)\n",
        "\n",
        "Grid_MLP_1Layer = RandomizedSearchCV(\n",
        "                        MLP_1Layer, \n",
        "                        parameter_space, \n",
        "                        scoring='roc_auc',\n",
        "                        n_iter=25, cv=2, n_jobs=-1, \n",
        "                        random_state=12, verbose=2\n",
        "                        )\n",
        "\n",
        "Search_MLP_1Layer = Grid_MLP_1Layer.fit(X_train, y_train)"
      ],
      "execution_count": 20,
      "outputs": [
        {
          "output_type": "stream",
          "text": [
            "Fitting 2 folds for each of 25 candidates, totalling 50 fits\n"
          ],
          "name": "stdout"
        },
        {
          "output_type": "stream",
          "text": [
            "[Parallel(n_jobs=-1)]: Using backend LokyBackend with 2 concurrent workers.\n",
            "[Parallel(n_jobs=-1)]: Done  37 tasks      | elapsed:  2.5min\n",
            "[Parallel(n_jobs=-1)]: Done  50 out of  50 | elapsed:  3.5min finished\n"
          ],
          "name": "stderr"
        }
      ]
    },
    {
      "cell_type": "code",
      "metadata": {
        "colab": {
          "base_uri": "https://localhost:8080/"
        },
        "id": "7bKtF0L9KX7L",
        "outputId": "e41d0cc1-292e-43c0-9262-e15799150f88"
      },
      "source": [
        "result(Search_MLP_1Layer, 'MLP - 1 Hidden Layer')"
      ],
      "execution_count": 21,
      "outputs": [
        {
          "output_type": "stream",
          "text": [
            "########## RESULTADOS ##########\n",
            "\n",
            "MLP - 1 Hidden Layer\n",
            "\n",
            "Melhores parâmetros: {'alpha': 0.00018052695510905757, 'hidden_layer_sizes': 2048, 'learning_rate': 'adaptive'}\n",
            "\n",
            "Melhor score: 0.8908338437212413\n"
          ],
          "name": "stdout"
        }
      ]
    },
    {
      "cell_type": "markdown",
      "metadata": {
        "id": "tLwGmKahs2Rn"
      },
      "source": [
        "## Multilayer Perceptron - 2 Hidden Layers: Scikit-Learn"
      ]
    },
    {
      "cell_type": "code",
      "metadata": {
        "colab": {
          "base_uri": "https://localhost:8080/"
        },
        "id": "hwSFpdsULgCY",
        "outputId": "7d1369cd-bd4b-46d5-e2a2-384bf56716dc"
      },
      "source": [
        "# Multilayer Perceptron com 2 camada escondida\n",
        "parameter_space = {\n",
        "\n",
        "    'hidden_layer_sizes': [(2 ** i, 2 ** j) for j in np.arange(5, 12) for i in np.arange(5, 12)],\n",
        "    'alpha': sp_loguniform(0.000001, 0.1),\n",
        "    'learning_rate': ['constant','adaptive'],\n",
        "}\n",
        "\n",
        "MLP_2Layer = MLPClassifier(random_state=12, early_stopping=True)\n",
        "\n",
        "Grid_MLP_2Layer = RandomizedSearchCV(\n",
        "                        MLP_1Layer, \n",
        "                        parameter_space,\n",
        "                        scoring='roc_auc',\n",
        "                        n_iter=25, cv=2, n_jobs=-1,\n",
        "                        random_state=12, verbose=2,\n",
        "                        )\n",
        "\n",
        "Search_MLP_2Layer = Grid_MLP_2Layer.fit(X_train, y_train)"
      ],
      "execution_count": 22,
      "outputs": [
        {
          "output_type": "stream",
          "text": [
            "Fitting 2 folds for each of 25 candidates, totalling 50 fits\n"
          ],
          "name": "stdout"
        },
        {
          "output_type": "stream",
          "text": [
            "[Parallel(n_jobs=-1)]: Using backend LokyBackend with 2 concurrent workers.\n",
            "/usr/local/lib/python3.6/dist-packages/joblib/externals/loky/process_executor.py:691: UserWarning: A worker stopped while some jobs were given to the executor. This can be caused by a too short worker timeout or by a memory leak.\n",
            "  \"timeout or by a memory leak.\", UserWarning\n",
            "[Parallel(n_jobs=-1)]: Done  37 tasks      | elapsed: 13.1min\n",
            "[Parallel(n_jobs=-1)]: Done  50 out of  50 | elapsed: 16.8min finished\n"
          ],
          "name": "stderr"
        }
      ]
    },
    {
      "cell_type": "code",
      "metadata": {
        "colab": {
          "base_uri": "https://localhost:8080/"
        },
        "id": "OZcr8Fv0Jrj6",
        "outputId": "21bca0a3-cd2e-48d5-d75c-7f92908ab31d"
      },
      "source": [
        "result(Search_MLP_2Layer, 'MLP - 2 Hidden Layer')"
      ],
      "execution_count": 23,
      "outputs": [
        {
          "output_type": "stream",
          "text": [
            "########## RESULTADOS ##########\n",
            "\n",
            "MLP - 2 Hidden Layer\n",
            "\n",
            "Melhores parâmetros: {'alpha': 0.04794672993969796, 'hidden_layer_sizes': (2048, 128), 'learning_rate': 'adaptive'}\n",
            "\n",
            "Melhor score: 0.8915966450907008\n"
          ],
          "name": "stdout"
        }
      ]
    },
    {
      "cell_type": "markdown",
      "metadata": {
        "id": "3qVdGqQJs5f-"
      },
      "source": [
        "## Rede Neural - 2 Hidden Layers: Tensorflow"
      ]
    },
    {
      "cell_type": "code",
      "metadata": {
        "id": "2s9D7JCDs_j3"
      },
      "source": [
        "n_features = X_train.shape[1]\n",
        "n_iter = 100"
      ],
      "execution_count": 24,
      "outputs": []
    },
    {
      "cell_type": "code",
      "metadata": {
        "id": "ItLARnfys_rU"
      },
      "source": [
        "def create_model(neurons=(10,10), reg=(.001, .001)):\n",
        "    \n",
        "    #Resetando os grafos da rede\n",
        "    ops.reset_default_graph()\n",
        "    \n",
        "    #Criando modelo\n",
        "    model = Sequential()\n",
        "\n",
        "    #Primeira camada\n",
        "    model.add(Dense(\n",
        "        neurons[0],\n",
        "        input_shape = (n_features,),\n",
        "        activation = \"relu\", \n",
        "        kernel_regularizer = regularizers.l1_l2(l1=reg[0], l2=reg[1]), \n",
        "        bias_regularizer = regularizers.l1_l2(l1=reg[0], l2=reg[1]),\n",
        "    ))\n",
        "\n",
        "    #Segunda camada\n",
        "    model.add(Dense(\n",
        "        neurons[1],\n",
        "        activation = \"relu\", \n",
        "        kernel_regularizer = regularizers.l1_l2(l1=reg[0], l2=reg[1]), \n",
        "        bias_regularizer = regularizers.l1_l2(l1=reg[0], l2=reg[1])\n",
        "    ))\n",
        "\n",
        "\n",
        "    #Camada de output\n",
        "    model.add(Dense(\n",
        "        1,\n",
        "        activation = \"sigmoid\", \n",
        "        kernel_regularizer = regularizers.l1_l2(l1=reg[0], l2=reg[1]), \n",
        "        bias_regularizer = regularizers.l1_l2(l1=reg[0], l2=reg[1])\n",
        "    ))\n",
        "    \n",
        "    #Compilando\n",
        "    model.compile(\n",
        "        optimizer = 'adam',\n",
        "        loss = 'binary_crossentropy',\n",
        "        metrics = [tf.keras.metrics.AUC()]\n",
        "    )\n",
        "\n",
        "    return model"
      ],
      "execution_count": 25,
      "outputs": []
    },
    {
      "cell_type": "code",
      "metadata": {
        "colab": {
          "base_uri": "https://localhost:8080/",
          "height": 204
        },
        "id": "eSqSbxIss_yj",
        "outputId": "9195fa11-c32c-4e5c-9a08-23c83d2fc359"
      },
      "source": [
        "#Inicializando\n",
        "\n",
        "neurons = []\n",
        "reg = []\n",
        "\n",
        "#Sorteando valores\n",
        "for i in range(n_iter):\n",
        "    h1 = random.randrange(25, 100, 5)\n",
        "    h2 = random.randrange(20, h1, 5)\n",
        "\n",
        "    neurons.append((h1, h2))\n",
        "    \n",
        "    l1 = random.choice([0, 1e-6, 1e-5, 1e-4, 1e-3, 1e-2, 1e-1])\n",
        "    l2 = random.choice([0, 1e-6, 1e-5, 1e-4, 1e-3, 1e-2, 1e-1])\n",
        "\n",
        "    reg.append((l1, l2))\n",
        "    \n",
        "#DataFrame com hiperparâmetros\n",
        "hyper = {\n",
        "        \"neurons\": neurons, \n",
        "         \"reg\": reg, \n",
        "         \"epochs\": n_iter*[None], \n",
        "         \"auc\": n_iter*[None],\n",
        "}\n",
        "\n",
        "hyper = pd.DataFrame(hyper)\n",
        "hyper = hyper[[\"neurons\", \"reg\", \"epochs\", \"auc\"]]\n",
        "\n",
        "hyper.head()"
      ],
      "execution_count": 26,
      "outputs": [
        {
          "output_type": "execute_result",
          "data": {
            "text/html": [
              "<div>\n",
              "<style scoped>\n",
              "    .dataframe tbody tr th:only-of-type {\n",
              "        vertical-align: middle;\n",
              "    }\n",
              "\n",
              "    .dataframe tbody tr th {\n",
              "        vertical-align: top;\n",
              "    }\n",
              "\n",
              "    .dataframe thead th {\n",
              "        text-align: right;\n",
              "    }\n",
              "</style>\n",
              "<table border=\"1\" class=\"dataframe\">\n",
              "  <thead>\n",
              "    <tr style=\"text-align: right;\">\n",
              "      <th></th>\n",
              "      <th>neurons</th>\n",
              "      <th>reg</th>\n",
              "      <th>epochs</th>\n",
              "      <th>auc</th>\n",
              "    </tr>\n",
              "  </thead>\n",
              "  <tbody>\n",
              "    <tr>\n",
              "      <th>0</th>\n",
              "      <td>(55, 30)</td>\n",
              "      <td>(0.0001, 0.0001)</td>\n",
              "      <td>None</td>\n",
              "      <td>None</td>\n",
              "    </tr>\n",
              "    <tr>\n",
              "      <th>1</th>\n",
              "      <td>(40, 25)</td>\n",
              "      <td>(0.0001, 0.1)</td>\n",
              "      <td>None</td>\n",
              "      <td>None</td>\n",
              "    </tr>\n",
              "    <tr>\n",
              "      <th>2</th>\n",
              "      <td>(30, 25)</td>\n",
              "      <td>(0.0001, 0.1)</td>\n",
              "      <td>None</td>\n",
              "      <td>None</td>\n",
              "    </tr>\n",
              "    <tr>\n",
              "      <th>3</th>\n",
              "      <td>(35, 20)</td>\n",
              "      <td>(0.01, 0.001)</td>\n",
              "      <td>None</td>\n",
              "      <td>None</td>\n",
              "    </tr>\n",
              "    <tr>\n",
              "      <th>4</th>\n",
              "      <td>(50, 20)</td>\n",
              "      <td>(0, 1e-05)</td>\n",
              "      <td>None</td>\n",
              "      <td>None</td>\n",
              "    </tr>\n",
              "  </tbody>\n",
              "</table>\n",
              "</div>"
            ],
            "text/plain": [
              "    neurons               reg epochs   auc\n",
              "0  (55, 30)  (0.0001, 0.0001)   None  None\n",
              "1  (40, 25)     (0.0001, 0.1)   None  None\n",
              "2  (30, 25)     (0.0001, 0.1)   None  None\n",
              "3  (35, 20)     (0.01, 0.001)   None  None\n",
              "4  (50, 20)        (0, 1e-05)   None  None"
            ]
          },
          "metadata": {
            "tags": []
          },
          "execution_count": 26
        }
      ]
    },
    {
      "cell_type": "code",
      "metadata": {
        "colab": {
          "base_uri": "https://localhost:8080/"
        },
        "id": "4Nqs_6MOtga2",
        "outputId": "86ab48c9-df49-46ba-e5eb-4b4899555774"
      },
      "source": [
        "for j in range(n_iter):\n",
        "    model = create_model(hyper.loc[j, \"neurons\"], hyper.loc[j,\"reg\"])\n",
        "    \n",
        "    es = EarlyStopping(monitor=\"val_auc\", patience=10)\n",
        "    \n",
        "    history = model.fit(\n",
        "                        X_train, y_train, \n",
        "                        validation_data = (X_test, y_test),\n",
        "                        epochs=50, \n",
        "                        batch_size=120, \n",
        "                        shuffle=True, \n",
        "                        verbose=False,\n",
        "                        callbacks=[es],\n",
        "                )\n",
        "    \n",
        "    hyper.loc[j,\"epochs\"] = len(history.history[\"val_auc\"])\n",
        "    hyper.loc[j,\"auc\"] = history.history[\"val_auc\"][-1]\n",
        "\n",
        "    # Progresso\n",
        "    if (j + 1) % int(n_iter/10) == 0:\n",
        "        print('{:.2f}% concluded.'.format(100*(j + 1)/n_iter))\n",
        "    else: \n",
        "        pass"
      ],
      "execution_count": 27,
      "outputs": [
        {
          "output_type": "stream",
          "text": [
            "10.00% concluded.\n",
            "20.00% concluded.\n",
            "30.00% concluded.\n",
            "40.00% concluded.\n",
            "50.00% concluded.\n",
            "60.00% concluded.\n",
            "70.00% concluded.\n",
            "80.00% concluded.\n",
            "90.00% concluded.\n",
            "100.00% concluded.\n"
          ],
          "name": "stdout"
        }
      ]
    },
    {
      "cell_type": "code",
      "metadata": {
        "colab": {
          "base_uri": "https://localhost:8080/",
          "height": 359
        },
        "id": "FCGwJIJeth_i",
        "outputId": "e9c53716-0a74-4af7-fa71-34c8d0c6b14c"
      },
      "source": [
        "hyper = hyper.iloc[np.argsort(hyper.loc[:,\"auc\"]),:]\n",
        "hyper.tail(10)"
      ],
      "execution_count": 28,
      "outputs": [
        {
          "output_type": "execute_result",
          "data": {
            "text/html": [
              "<div>\n",
              "<style scoped>\n",
              "    .dataframe tbody tr th:only-of-type {\n",
              "        vertical-align: middle;\n",
              "    }\n",
              "\n",
              "    .dataframe tbody tr th {\n",
              "        vertical-align: top;\n",
              "    }\n",
              "\n",
              "    .dataframe thead th {\n",
              "        text-align: right;\n",
              "    }\n",
              "</style>\n",
              "<table border=\"1\" class=\"dataframe\">\n",
              "  <thead>\n",
              "    <tr style=\"text-align: right;\">\n",
              "      <th></th>\n",
              "      <th>neurons</th>\n",
              "      <th>reg</th>\n",
              "      <th>epochs</th>\n",
              "      <th>auc</th>\n",
              "    </tr>\n",
              "  </thead>\n",
              "  <tbody>\n",
              "    <tr>\n",
              "      <th>69</th>\n",
              "      <td>(50, 35)</td>\n",
              "      <td>(1e-05, 0.0001)</td>\n",
              "      <td>11</td>\n",
              "      <td>0.892836</td>\n",
              "    </tr>\n",
              "    <tr>\n",
              "      <th>8</th>\n",
              "      <td>(30, 20)</td>\n",
              "      <td>(1e-06, 0.0001)</td>\n",
              "      <td>11</td>\n",
              "      <td>0.892856</td>\n",
              "    </tr>\n",
              "    <tr>\n",
              "      <th>14</th>\n",
              "      <td>(85, 80)</td>\n",
              "      <td>(0.0001, 1e-05)</td>\n",
              "      <td>11</td>\n",
              "      <td>0.893073</td>\n",
              "    </tr>\n",
              "    <tr>\n",
              "      <th>87</th>\n",
              "      <td>(50, 30)</td>\n",
              "      <td>(0.0001, 0.001)</td>\n",
              "      <td>11</td>\n",
              "      <td>0.893098</td>\n",
              "    </tr>\n",
              "    <tr>\n",
              "      <th>52</th>\n",
              "      <td>(45, 30)</td>\n",
              "      <td>(1e-06, 0)</td>\n",
              "      <td>11</td>\n",
              "      <td>0.893193</td>\n",
              "    </tr>\n",
              "    <tr>\n",
              "      <th>75</th>\n",
              "      <td>(70, 25)</td>\n",
              "      <td>(1e-05, 0.001)</td>\n",
              "      <td>11</td>\n",
              "      <td>0.893588</td>\n",
              "    </tr>\n",
              "    <tr>\n",
              "      <th>21</th>\n",
              "      <td>(70, 30)</td>\n",
              "      <td>(0.0001, 1e-05)</td>\n",
              "      <td>11</td>\n",
              "      <td>0.893704</td>\n",
              "    </tr>\n",
              "    <tr>\n",
              "      <th>0</th>\n",
              "      <td>(55, 30)</td>\n",
              "      <td>(0.0001, 0.0001)</td>\n",
              "      <td>11</td>\n",
              "      <td>0.893945</td>\n",
              "    </tr>\n",
              "    <tr>\n",
              "      <th>84</th>\n",
              "      <td>(80, 20)</td>\n",
              "      <td>(0, 0.001)</td>\n",
              "      <td>11</td>\n",
              "      <td>0.893962</td>\n",
              "    </tr>\n",
              "    <tr>\n",
              "      <th>28</th>\n",
              "      <td>(95, 80)</td>\n",
              "      <td>(0, 0.001)</td>\n",
              "      <td>11</td>\n",
              "      <td>0.894092</td>\n",
              "    </tr>\n",
              "  </tbody>\n",
              "</table>\n",
              "</div>"
            ],
            "text/plain": [
              "     neurons               reg epochs       auc\n",
              "69  (50, 35)   (1e-05, 0.0001)     11  0.892836\n",
              "8   (30, 20)   (1e-06, 0.0001)     11  0.892856\n",
              "14  (85, 80)   (0.0001, 1e-05)     11  0.893073\n",
              "87  (50, 30)   (0.0001, 0.001)     11  0.893098\n",
              "52  (45, 30)        (1e-06, 0)     11  0.893193\n",
              "75  (70, 25)    (1e-05, 0.001)     11  0.893588\n",
              "21  (70, 30)   (0.0001, 1e-05)     11  0.893704\n",
              "0   (55, 30)  (0.0001, 0.0001)     11  0.893945\n",
              "84  (80, 20)        (0, 0.001)     11  0.893962\n",
              "28  (95, 80)        (0, 0.001)     11  0.894092"
            ]
          },
          "metadata": {
            "tags": []
          },
          "execution_count": 28
        }
      ]
    },
    {
      "cell_type": "code",
      "metadata": {
        "colab": {
          "base_uri": "https://localhost:8080/"
        },
        "id": "GtWK4FkGWNFZ",
        "outputId": "b2b6e967-433b-470b-a717-36efc0f32d59"
      },
      "source": [
        "#Melhores hiperparâmetros\n",
        "neurons = hyper.iloc[-1, 0]\n",
        "reg = hyper.iloc[-1, 1]\n",
        "epochs = hyper.iloc[-1, 2]\n",
        "\n",
        "#Criando o modelo com os melhores parâmetros\n",
        "NN_2Layers = create_model(neurons, reg)\n",
        "\n",
        "#Treino\n",
        "NN_2Layers.fit(\n",
        "    X_train, y_train,\n",
        "    validation_split = 0,\n",
        "    epochs = epochs,\n",
        "    batch_size = 120,\n",
        "    shuffle = True,\n",
        "    verbose = True,\n",
        ")"
      ],
      "execution_count": 29,
      "outputs": [
        {
          "output_type": "stream",
          "text": [
            "Epoch 1/11\n",
            "208/208 [==============================] - 0s 2ms/step - loss: 0.5817 - auc: 0.8691\n",
            "Epoch 2/11\n",
            "208/208 [==============================] - 1s 2ms/step - loss: 0.4998 - auc: 0.8933\n",
            "Epoch 3/11\n",
            "208/208 [==============================] - 0s 2ms/step - loss: 0.4707 - auc: 0.8980\n",
            "Epoch 4/11\n",
            "208/208 [==============================] - 0s 2ms/step - loss: 0.4537 - auc: 0.9007\n",
            "Epoch 5/11\n",
            "208/208 [==============================] - 0s 2ms/step - loss: 0.4435 - auc: 0.9020\n",
            "Epoch 6/11\n",
            "208/208 [==============================] - 0s 2ms/step - loss: 0.4346 - auc: 0.9040\n",
            "Epoch 7/11\n",
            "208/208 [==============================] - 0s 2ms/step - loss: 0.4274 - auc: 0.9061\n",
            "Epoch 8/11\n",
            "208/208 [==============================] - 0s 2ms/step - loss: 0.4230 - auc: 0.9071\n",
            "Epoch 9/11\n",
            "208/208 [==============================] - 0s 2ms/step - loss: 0.4188 - auc: 0.9085\n",
            "Epoch 10/11\n",
            "208/208 [==============================] - 0s 2ms/step - loss: 0.4166 - auc: 0.9092\n",
            "Epoch 11/11\n",
            "208/208 [==============================] - 0s 2ms/step - loss: 0.4119 - auc: 0.9111\n"
          ],
          "name": "stdout"
        },
        {
          "output_type": "execute_result",
          "data": {
            "text/plain": [
              "<tensorflow.python.keras.callbacks.History at 0x7fd7f87da518>"
            ]
          },
          "metadata": {
            "tags": []
          },
          "execution_count": 29
        }
      ]
    },
    {
      "cell_type": "markdown",
      "metadata": {
        "id": "YWSqT_I_Nzmy"
      },
      "source": [
        "## Regressão Logística"
      ]
    },
    {
      "cell_type": "code",
      "metadata": {
        "colab": {
          "base_uri": "https://localhost:8080/"
        },
        "id": "uqd10gvUNx2f",
        "outputId": "0afdf09d-600f-404e-9aa1-391f2b77ff68"
      },
      "source": [
        "from sklearn.linear_model import LogisticRegression\n",
        "\n",
        "# Hiperparâmetros\n",
        "parameter_space = dict(\n",
        "    C = np.linspace(0, 10, 100),\n",
        "    penalty = ['l2', 'l1'],\n",
        ")\n",
        "\n",
        "\n",
        "# Instanciândo o modelo de regressão logística\n",
        "Logistic = LogisticRegression(\n",
        "                solver = 'liblinear',\n",
        "                random_state = 12,\n",
        "            )\n",
        "\n",
        "Grid_Logistic = RandomizedSearchCV(\n",
        "                    Logistic,\n",
        "                    parameter_space, \n",
        "                    scoring='roc_auc',\n",
        "                    n_iter=50, cv=2, n_jobs=-1, \n",
        "                    random_state=0, verbose=2\n",
        "                    )\n",
        "\n",
        "Search_Logistic = Grid_Logistic.fit(X_train, y_train)"
      ],
      "execution_count": 30,
      "outputs": [
        {
          "output_type": "stream",
          "text": [
            "Fitting 2 folds for each of 50 candidates, totalling 100 fits\n"
          ],
          "name": "stdout"
        },
        {
          "output_type": "stream",
          "text": [
            "[Parallel(n_jobs=-1)]: Using backend LokyBackend with 2 concurrent workers.\n",
            "[Parallel(n_jobs=-1)]: Done  37 tasks      | elapsed:    9.1s\n",
            "[Parallel(n_jobs=-1)]: Done 100 out of 100 | elapsed:   23.9s finished\n"
          ],
          "name": "stderr"
        }
      ]
    },
    {
      "cell_type": "code",
      "metadata": {
        "colab": {
          "base_uri": "https://localhost:8080/"
        },
        "id": "kdn1FcXNPh-U",
        "outputId": "32e96f48-2a67-44f1-ce42-9e550cc4687c"
      },
      "source": [
        "result(Search_Logistic, 'Logistic Regression')"
      ],
      "execution_count": 31,
      "outputs": [
        {
          "output_type": "stream",
          "text": [
            "########## RESULTADOS ##########\n",
            "\n",
            "Logistic Regression\n",
            "\n",
            "Melhores parâmetros: {'penalty': 'l2', 'C': 0.20202020202020202}\n",
            "\n",
            "Melhor score: 0.8850776175992903\n"
          ],
          "name": "stdout"
        }
      ]
    },
    {
      "cell_type": "markdown",
      "metadata": {
        "id": "mSwTUrlMPnme"
      },
      "source": [
        "# Comparando os Modelos:\n",
        "\n",
        "Nessa parte vamos aplicar os 4 modelos treinados que temos no nosso conjunto de dados de teste e assim poderemos ter uma comparação de como eles estão performando e, assim escolher o melhor modelo para essa tarefa de análise de sentimentos."
      ]
    },
    {
      "cell_type": "code",
      "metadata": {
        "colab": {
          "base_uri": "https://localhost:8080/",
          "height": 173
        },
        "id": "II3QP8ZNXBMa",
        "outputId": "f0a349ba-421e-45b1-9537-4c980369fe36"
      },
      "source": [
        "models = [\n",
        "          'MLP 1 Layer (Scikit)',\n",
        "          'MLP 2 Layer (Scikit)',\n",
        "          'NN  2 Layer (Tensorflow)',\n",
        "          'Logistic Regression',\n",
        "]\n",
        "\n",
        "AUC = [\n",
        "       roc_auc_score(y_test, Search_MLP_1Layer.predict_proba(X_test)[:,1]),\n",
        "       roc_auc_score(y_test, Search_MLP_2Layer.predict_proba(X_test)[:,1]),\n",
        "       roc_auc_score(y_test, NN_2Layers.predict(X_test).squeeze()),\n",
        "       roc_auc_score(y_test, Search_Logistic.predict_proba(X_test)[:,1]),\n",
        "]\n",
        "\n",
        "scores = {\n",
        "    'Modelos' : models,\n",
        "    'AUC' : AUC,\n",
        "}\n",
        "\n",
        "scores_df = pd.DataFrame(scores)\n",
        "scores_df.head()"
      ],
      "execution_count": 32,
      "outputs": [
        {
          "output_type": "execute_result",
          "data": {
            "text/html": [
              "<div>\n",
              "<style scoped>\n",
              "    .dataframe tbody tr th:only-of-type {\n",
              "        vertical-align: middle;\n",
              "    }\n",
              "\n",
              "    .dataframe tbody tr th {\n",
              "        vertical-align: top;\n",
              "    }\n",
              "\n",
              "    .dataframe thead th {\n",
              "        text-align: right;\n",
              "    }\n",
              "</style>\n",
              "<table border=\"1\" class=\"dataframe\">\n",
              "  <thead>\n",
              "    <tr style=\"text-align: right;\">\n",
              "      <th></th>\n",
              "      <th>Modelos</th>\n",
              "      <th>AUC</th>\n",
              "    </tr>\n",
              "  </thead>\n",
              "  <tbody>\n",
              "    <tr>\n",
              "      <th>0</th>\n",
              "      <td>MLP 1 Layer (Scikit)</td>\n",
              "      <td>0.894233</td>\n",
              "    </tr>\n",
              "    <tr>\n",
              "      <th>1</th>\n",
              "      <td>MLP 2 Layer (Scikit)</td>\n",
              "      <td>0.894769</td>\n",
              "    </tr>\n",
              "    <tr>\n",
              "      <th>2</th>\n",
              "      <td>NN  2 Layer (Tensorflow)</td>\n",
              "      <td>0.893029</td>\n",
              "    </tr>\n",
              "    <tr>\n",
              "      <th>3</th>\n",
              "      <td>Logistic Regression</td>\n",
              "      <td>0.883523</td>\n",
              "    </tr>\n",
              "  </tbody>\n",
              "</table>\n",
              "</div>"
            ],
            "text/plain": [
              "                    Modelos       AUC\n",
              "0      MLP 1 Layer (Scikit)  0.894233\n",
              "1      MLP 2 Layer (Scikit)  0.894769\n",
              "2  NN  2 Layer (Tensorflow)  0.893029\n",
              "3       Logistic Regression  0.883523"
            ]
          },
          "metadata": {
            "tags": []
          },
          "execution_count": 32
        }
      ]
    },
    {
      "cell_type": "markdown",
      "metadata": {
        "id": "uuN8Z10OZxGc"
      },
      "source": [
        "Dava para olhar na mão, mas vamos fazer uma linha para achar o melhor modelo"
      ]
    },
    {
      "cell_type": "code",
      "metadata": {
        "colab": {
          "base_uri": "https://localhost:8080/",
          "height": 80
        },
        "id": "7u2qrAGdZEle",
        "outputId": "c4eda675-8570-401e-aa6c-a32f9bb2346a"
      },
      "source": [
        "scores_df.loc[scores_df['AUC'] == scores_df['AUC'].max()]"
      ],
      "execution_count": 33,
      "outputs": [
        {
          "output_type": "execute_result",
          "data": {
            "text/html": [
              "<div>\n",
              "<style scoped>\n",
              "    .dataframe tbody tr th:only-of-type {\n",
              "        vertical-align: middle;\n",
              "    }\n",
              "\n",
              "    .dataframe tbody tr th {\n",
              "        vertical-align: top;\n",
              "    }\n",
              "\n",
              "    .dataframe thead th {\n",
              "        text-align: right;\n",
              "    }\n",
              "</style>\n",
              "<table border=\"1\" class=\"dataframe\">\n",
              "  <thead>\n",
              "    <tr style=\"text-align: right;\">\n",
              "      <th></th>\n",
              "      <th>Modelos</th>\n",
              "      <th>AUC</th>\n",
              "    </tr>\n",
              "  </thead>\n",
              "  <tbody>\n",
              "    <tr>\n",
              "      <th>1</th>\n",
              "      <td>MLP 2 Layer (Scikit)</td>\n",
              "      <td>0.894769</td>\n",
              "    </tr>\n",
              "  </tbody>\n",
              "</table>\n",
              "</div>"
            ],
            "text/plain": [
              "                Modelos       AUC\n",
              "1  MLP 2 Layer (Scikit)  0.894769"
            ]
          },
          "metadata": {
            "tags": []
          },
          "execution_count": 33
        }
      ]
    },
    {
      "cell_type": "code",
      "metadata": {
        "colab": {
          "base_uri": "https://localhost:8080/",
          "height": 628
        },
        "id": "dvv-tgxHcXv9",
        "outputId": "c4b2ede6-f1e4-40bd-9d6b-56dccf3844b8"
      },
      "source": [
        "from sklearn.metrics import plot_roc_curve\n",
        "\n",
        "#Plottando curva ROC\n",
        "plot_roc_curve(Search_MLP_2Layer, X_test, y_test)"
      ],
      "execution_count": 34,
      "outputs": [
        {
          "output_type": "execute_result",
          "data": {
            "text/plain": [
              "<sklearn.metrics._plot.roc_curve.RocCurveDisplay at 0x7fd7f21ad400>"
            ]
          },
          "metadata": {
            "tags": []
          },
          "execution_count": 34
        },
        {
          "output_type": "display_data",
          "data": {
            "image/png": "[encoded data removed]",
            "text/plain": [
              "<Figure size 720x720 with 1 Axes>"
            ]
          },
          "metadata": {
            "tags": []
          }
        }
      ]
    },
    {
      "cell_type": "markdown",
      "metadata": {
        "id": "Zeb88R0QQrPI"
      },
      "source": [
        "# Submissão"
      ]
    },
    {
      "cell_type": "code",
      "metadata": {
        "id": "-GpuOdxqQCO4"
      },
      "source": [
        "#Carregando os dados de validação\n",
        "validation = pd.read_csv('validation.csv')\n",
        "\n",
        "#Passando o processo de limpeza sobre esses dados\n",
        "X_validation = clean_data(validation['review'])\n",
        "\n",
        "#Predição\n",
        "y_prediction = Search_MLP_2Layer.predict_proba(X_validation)[:,1]\n",
        "\n",
        "#Criando submissão\n",
        "submission = {'positive': y_prediction}\n",
        "submission = pd.DataFrame(submission)\n",
        "submission.to_csv(\"submission.csv\", index = True, index_label = 'Id')"
      ],
      "execution_count": 35,
      "outputs": []
    }
  ]
}